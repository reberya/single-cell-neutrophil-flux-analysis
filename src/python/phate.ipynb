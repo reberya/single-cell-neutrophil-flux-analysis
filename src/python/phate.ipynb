{
 "cells": [
  {
   "cell_type": "markdown",
   "metadata": {},
   "source": [
    "# Running MAGIC and PHATE on Immunometabolism dataset\n",
    "**Author:** Scott Campit"
   ]
  },
  {
   "cell_type": "markdown",
   "metadata": {},
   "source": [
    "# Summary\n",
    "This notebook performs data imputation using MAGIC for single-cell COBRA analyses.\n",
    "\n",
    "To visualize the results, we will use PHATE, which was also developed in the same lab."
   ]
  },
  {
   "cell_type": "code",
   "execution_count": 8,
   "metadata": {},
   "outputs": [],
   "source": [
    "#!pip install --user magic-impute\n",
    "#!pip install --user phate\n",
    "import magic\n",
    "import phate\n",
    "import scprep\n",
    "\n",
    "import numpy as np\n",
    "import pandas as pd\n",
    "import matplotlib\n",
    "import matplotlib.pyplot as plt"
   ]
  },
  {
   "cell_type": "markdown",
   "metadata": {},
   "source": [
    "# 1. Import data\n",
    "First, let's import the immunometabolism data from the Seurat object. This can be done with the R notebook ``"
   ]
  }
 ],
 "metadata": {
  "kernelspec": {
   "display_name": "immune",
   "language": "python",
   "name": "immune"
  },
  "language_info": {
   "codemirror_mode": {
    "name": "ipython",
    "version": 3
   },
   "file_extension": ".py",
   "mimetype": "text/x-python",
   "name": "python",
   "nbconvert_exporter": "python",
   "pygments_lexer": "ipython3",
   "version": "3.9.0"
  }
 },
 "nbformat": 4,
 "nbformat_minor": 4
}
