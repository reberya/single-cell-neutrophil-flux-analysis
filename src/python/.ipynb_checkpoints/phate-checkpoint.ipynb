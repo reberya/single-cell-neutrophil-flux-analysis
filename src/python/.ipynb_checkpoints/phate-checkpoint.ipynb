{
 "cells": [
  {
   "cell_type": "markdown",
   "metadata": {},
   "source": [
    "# Running MAGIC and PHATE on Immunometabolism dataset\n",
    "**Author:** Scott Campit"
   ]
  },
  {
   "cell_type": "markdown",
   "metadata": {},
   "source": [
    "# Summary\n",
    "This notebook performs data imputation using MAGIC for single-cell COBRA analyses.\n",
    "\n",
    "To visualize the results, we will use PHATE, which was also developed in the same lab."
   ]
  },
  {
   "cell_type": "code",
   "execution_count": 1,
   "metadata": {},
   "outputs": [
    {
     "name": "stdout",
     "output_type": "stream",
     "text": [
      "c:\\users\\scott\\envs\\python\\immune\\scripts\\python.exe\n",
      "3.9.0 (tags/v3.9.0:9cf6752, Oct  5 2020, 15:23:07) [MSC v.1927 32 bit (Intel)]\n",
      "sys.version_info(major=3, minor=9, micro=0, releaselevel='final', serial=0)\n"
     ]
    }
   ],
   "source": [
    "#!pip install --user magic-impute\n",
    "#!pip install --user phate\n",
    "import magic\n",
    "import phate\n",
    "import scprep\n",
    "\n",
    "import numpy as np\n",
    "import pandas as pd\n",
    "import matplotlib\n",
    "import matplotlib.pyplot as plt\n",
    "\n",
    "# Read excel files\n",
    "import xlrd\n",
    "import openpyxl\n",
    "from openpyxl import load_workbook\n",
    "\n",
    "import sys\n",
    "print(sys.executable)\n",
    "print(sys.version)\n",
    "print(sys.version_info)"
   ]
  },
  {
   "cell_type": "markdown",
   "metadata": {},
   "source": [
    "# 1. Import data\n",
    "First, let's import the immunometabolism data. I saved the data as an excel file where each sheet is a different cell lineage. The rows correspond to individual genes. The columns correspond to different time points."
   ]
  },
  {
   "cell_type": "code",
   "execution_count": 2,
   "metadata": {},
   "outputs": [
    {
     "name": "stdout",
     "output_type": "stream",
     "text": [
      "['Stromal', 'AlveolarMacrophages', 'Macrophages', 'Monocytes', 'Pneumocytes', 'Bcells', 'Granulocytes', 'Tcells', 'Dendritic', 'Neutrophils', 'NK', 'Endothelial', 'HSC']\n"
     ]
    }
   ],
   "source": [
    "# Read in count matrix\n",
    "datapath = r\"C:\\Users\\scott\\Data\\scRNASeq\\shea\\celldf.xlsx\"\n",
    "wb = load_workbook(filename=datapath, read_only=True)\n",
    "print(wb.sheetnames)"
   ]
  },
  {
   "cell_type": "markdown",
   "metadata": {},
   "source": [
    "# 2. Analyze Neutrophil data specifically\n",
    "Let's write up some code to preprocess the dataset. We'll analyze the Neutrophil dataset first, because that's the main dataset of interest."
   ]
  },
  {
   "cell_type": "code",
   "execution_count": 39,
   "metadata": {},
   "outputs": [],
   "source": [
    "counts = pd.read_excel(datapath, \n",
    "                       sheet_name=wb.sheetnames[10])"
   ]
  },
  {
   "cell_type": "markdown",
   "metadata": {},
   "source": [
    "First, let's grab the metadata we need."
   ]
  },
  {
   "cell_type": "code",
   "execution_count": 40,
   "metadata": {},
   "outputs": [],
   "source": [
    "# Drop symbols\n",
    "symbols = counts[\"Symbol\"]\n",
    "counts = counts.drop(\"Symbol\", axis=1)\n",
    "\n",
    "# Grab cell names\n",
    "celltype = counts.columns"
   ]
  },
  {
   "cell_type": "markdown",
   "metadata": {},
   "source": [
    "Then let's print the resulting dataframe."
   ]
  },
  {
   "cell_type": "code",
   "execution_count": 41,
   "metadata": {},
   "outputs": [
    {
     "name": "stdout",
     "output_type": "stream",
     "text": [
      "   NK Cells  0  NK Cells  0.1  NK Cells  0.2  NK Cells  0.3  NK Cells  0.4  \\\n",
      "0            0              0              0              0              0   \n",
      "1            0              0              0              0              0   \n",
      "2            0              0              0              0              0   \n",
      "3            0              0              0              0              0   \n",
      "4            0              0              0              0              0   \n",
      "\n",
      "   NK Cells  0.5  NK Cells  0.6  NK Cells  0.7  NK Cells  0.8  NK Cells  0.9  \\\n",
      "0              0              0              0              0              0   \n",
      "1              0              0              0              0              0   \n",
      "2              0              0              0              0              0   \n",
      "3              0              0              0              0              0   \n",
      "4              0              0              0              0              0   \n",
      "\n",
      "   ...  NK Cells  14.13  NK Cells  14.14  NK Cells  14.15  NK Cells  14.16  \\\n",
      "0  ...                0                0                0                0   \n",
      "1  ...                0                0                0                0   \n",
      "2  ...                0                0                1                0   \n",
      "3  ...                0                0                0                0   \n",
      "4  ...                0                0                0                0   \n",
      "\n",
      "   NK Cells  14.17  NK Cells  14.18  NK Cells  14.19  NK Cells  14.20  \\\n",
      "0                0                0                0                0   \n",
      "1                0                0                0                0   \n",
      "2                0                0                0                0   \n",
      "3                0                0                0                1   \n",
      "4                0                0                0                0   \n",
      "\n",
      "   NK Cells  14.21  NK Cells  14.22  \n",
      "0                0                0  \n",
      "1                0                0  \n",
      "2                0                1  \n",
      "3                1                0  \n",
      "4                0                0  \n",
      "\n",
      "[5 rows x 173 columns]\n"
     ]
    }
   ],
   "source": [
    "print(counts.head())"
   ]
  },
  {
   "cell_type": "markdown",
   "metadata": {},
   "source": [
    "The data is current arranged where the rows are genes and the columns are cell lines. Let's transpose the matrix so that columns are genes and rows are cell lines."
   ]
  },
  {
   "cell_type": "code",
   "execution_count": 42,
   "metadata": {},
   "outputs": [],
   "source": [
    "counts = counts.transpose()\n",
    "counts = counts.reset_index()\n",
    "counts = counts.drop('index', axis=1)"
   ]
  },
  {
   "cell_type": "markdown",
   "metadata": {},
   "source": [
    "Set the columns to be gene symbols"
   ]
  },
  {
   "cell_type": "code",
   "execution_count": 43,
   "metadata": {},
   "outputs": [
    {
     "name": "stdout",
     "output_type": "stream",
     "text": [
      "Symbol  0610007P14Rik  0610009B22Rik  0610009D07Rik  0610009E02Rik  \\\n",
      "0                   0              0              0              0   \n",
      "1                   0              0              0              0   \n",
      "2                   0              0              0              0   \n",
      "3                   0              0              0              0   \n",
      "4                   0              0              0              0   \n",
      "\n",
      "Symbol  0610009L18Rik  0610009O20Rik  0610010F05Rik  0610010K14Rik  \\\n",
      "0                   0              0              0              0   \n",
      "1                   0              0              0              0   \n",
      "2                   0              0              0              0   \n",
      "3                   0              0              0              0   \n",
      "4                   0              0              0              0   \n",
      "\n",
      "Symbol  0610011F06Rik  0610030E20Rik  ...  Gm8226  Gm996  Ighg1  Mboat4  \\\n",
      "0                   0              0  ...       0      0      0       0   \n",
      "1                   0              0  ...       0      0      0       0   \n",
      "2                   0              0  ...       0      0      0       0   \n",
      "3                   0              0  ...       0      0      0       0   \n",
      "4                   0              0  ...       0      0      0       0   \n",
      "\n",
      "Symbol  Mir3068  Sdsl  Slc36a3  Sync  Syngr4  Tuba3a  \n",
      "0             0     0        0     0       0       0  \n",
      "1             0     0        0     0       0       0  \n",
      "2             0     0        0     0       0       0  \n",
      "3             0     0        0     0       0       0  \n",
      "4             0     0        0     0       0       0  \n",
      "\n",
      "[5 rows x 16431 columns]\n"
     ]
    }
   ],
   "source": [
    "counts.columns = symbols\n",
    "print(counts.head())"
   ]
  },
  {
   "cell_type": "markdown",
   "metadata": {},
   "source": [
    "# 2. Data Preprocessing\n",
    "Let's now perform some data filtering."
   ]
  },
  {
   "cell_type": "code",
   "execution_count": 44,
   "metadata": {},
   "outputs": [
    {
     "data": {
      "text/plain": [
       "<AxesSubplot:xlabel='Library size', ylabel='Number of cells'>"
      ]
     },
     "execution_count": 44,
     "metadata": {},
     "output_type": "execute_result"
    },
    {
     "data": {
      "image/png": "[encoded data removed]",
      "text/plain": [
       "<Figure size 432x288 with 1 Axes>"
      ]
     },
     "metadata": {
      "needs_background": "light"
     },
     "output_type": "display_data"
    }
   ],
   "source": [
    "scprep.plot.plot_library_size(data=counts,\n",
    "                              cutoff=250)"
   ]
  },
  {
   "cell_type": "code",
   "execution_count": 17,
   "metadata": {},
   "outputs": [],
   "source": [
    "# be sure to uncomment this, unless your data is pre-filtered\n",
    "#counts = scprep.filter.filter_library_size(counts, cutoff=1500)\n",
    "#counts.head()"
   ]
  },
  {
   "cell_type": "markdown",
   "metadata": {},
   "source": [
    "Now let's normalize the data."
   ]
  },
  {
   "cell_type": "code",
   "execution_count": 45,
   "metadata": {},
   "outputs": [
    {
     "data": {
      "text/html": [
       "<div>\n",
       "<style scoped>\n",
       "    .dataframe tbody tr th:only-of-type {\n",
       "        vertical-align: middle;\n",
       "    }\n",
       "\n",
       "    .dataframe tbody tr th {\n",
       "        vertical-align: top;\n",
       "    }\n",
       "\n",
       "    .dataframe thead th {\n",
       "        text-align: right;\n",
       "    }\n",
       "</style>\n",
       "<table border=\"1\" class=\"dataframe\">\n",
       "  <thead>\n",
       "    <tr style=\"text-align: right;\">\n",
       "      <th>Symbol</th>\n",
       "      <th>0610007P14Rik</th>\n",
       "      <th>0610009B22Rik</th>\n",
       "      <th>0610009D07Rik</th>\n",
       "      <th>0610009E02Rik</th>\n",
       "      <th>0610009L18Rik</th>\n",
       "      <th>0610009O20Rik</th>\n",
       "      <th>0610010F05Rik</th>\n",
       "      <th>0610010K14Rik</th>\n",
       "      <th>0610011F06Rik</th>\n",
       "      <th>0610030E20Rik</th>\n",
       "      <th>...</th>\n",
       "      <th>Gm8226</th>\n",
       "      <th>Gm996</th>\n",
       "      <th>Ighg1</th>\n",
       "      <th>Mboat4</th>\n",
       "      <th>Mir3068</th>\n",
       "      <th>Sdsl</th>\n",
       "      <th>Slc36a3</th>\n",
       "      <th>Sync</th>\n",
       "      <th>Syngr4</th>\n",
       "      <th>Tuba3a</th>\n",
       "    </tr>\n",
       "  </thead>\n",
       "  <tbody>\n",
       "    <tr>\n",
       "      <th>0</th>\n",
       "      <td>-0.034682</td>\n",
       "      <td>0.0</td>\n",
       "      <td>-0.080925</td>\n",
       "      <td>-0.017341</td>\n",
       "      <td>-0.00578</td>\n",
       "      <td>-0.017341</td>\n",
       "      <td>-0.040462</td>\n",
       "      <td>-0.00578</td>\n",
       "      <td>0.0</td>\n",
       "      <td>-0.052023</td>\n",
       "      <td>...</td>\n",
       "      <td>0.0</td>\n",
       "      <td>0.0</td>\n",
       "      <td>0.0</td>\n",
       "      <td>0.0</td>\n",
       "      <td>0.0</td>\n",
       "      <td>0.0</td>\n",
       "      <td>0.0</td>\n",
       "      <td>0.0</td>\n",
       "      <td>0.0</td>\n",
       "      <td>0.0</td>\n",
       "    </tr>\n",
       "    <tr>\n",
       "      <th>1</th>\n",
       "      <td>-0.034682</td>\n",
       "      <td>0.0</td>\n",
       "      <td>-0.080925</td>\n",
       "      <td>-0.017341</td>\n",
       "      <td>-0.00578</td>\n",
       "      <td>-0.017341</td>\n",
       "      <td>-0.040462</td>\n",
       "      <td>-0.00578</td>\n",
       "      <td>0.0</td>\n",
       "      <td>-0.052023</td>\n",
       "      <td>...</td>\n",
       "      <td>0.0</td>\n",
       "      <td>0.0</td>\n",
       "      <td>0.0</td>\n",
       "      <td>0.0</td>\n",
       "      <td>0.0</td>\n",
       "      <td>0.0</td>\n",
       "      <td>0.0</td>\n",
       "      <td>0.0</td>\n",
       "      <td>0.0</td>\n",
       "      <td>0.0</td>\n",
       "    </tr>\n",
       "    <tr>\n",
       "      <th>2</th>\n",
       "      <td>-0.034682</td>\n",
       "      <td>0.0</td>\n",
       "      <td>-0.080925</td>\n",
       "      <td>-0.017341</td>\n",
       "      <td>-0.00578</td>\n",
       "      <td>-0.017341</td>\n",
       "      <td>-0.040462</td>\n",
       "      <td>-0.00578</td>\n",
       "      <td>0.0</td>\n",
       "      <td>-0.052023</td>\n",
       "      <td>...</td>\n",
       "      <td>0.0</td>\n",
       "      <td>0.0</td>\n",
       "      <td>0.0</td>\n",
       "      <td>0.0</td>\n",
       "      <td>0.0</td>\n",
       "      <td>0.0</td>\n",
       "      <td>0.0</td>\n",
       "      <td>0.0</td>\n",
       "      <td>0.0</td>\n",
       "      <td>0.0</td>\n",
       "    </tr>\n",
       "    <tr>\n",
       "      <th>3</th>\n",
       "      <td>-0.034682</td>\n",
       "      <td>0.0</td>\n",
       "      <td>-0.080925</td>\n",
       "      <td>-0.017341</td>\n",
       "      <td>-0.00578</td>\n",
       "      <td>-0.017341</td>\n",
       "      <td>-0.040462</td>\n",
       "      <td>-0.00578</td>\n",
       "      <td>0.0</td>\n",
       "      <td>-0.052023</td>\n",
       "      <td>...</td>\n",
       "      <td>0.0</td>\n",
       "      <td>0.0</td>\n",
       "      <td>0.0</td>\n",
       "      <td>0.0</td>\n",
       "      <td>0.0</td>\n",
       "      <td>0.0</td>\n",
       "      <td>0.0</td>\n",
       "      <td>0.0</td>\n",
       "      <td>0.0</td>\n",
       "      <td>0.0</td>\n",
       "    </tr>\n",
       "    <tr>\n",
       "      <th>4</th>\n",
       "      <td>-0.034682</td>\n",
       "      <td>0.0</td>\n",
       "      <td>-0.080925</td>\n",
       "      <td>-0.017341</td>\n",
       "      <td>-0.00578</td>\n",
       "      <td>-0.017341</td>\n",
       "      <td>-0.040462</td>\n",
       "      <td>-0.00578</td>\n",
       "      <td>0.0</td>\n",
       "      <td>-0.052023</td>\n",
       "      <td>...</td>\n",
       "      <td>0.0</td>\n",
       "      <td>0.0</td>\n",
       "      <td>0.0</td>\n",
       "      <td>0.0</td>\n",
       "      <td>0.0</td>\n",
       "      <td>0.0</td>\n",
       "      <td>0.0</td>\n",
       "      <td>0.0</td>\n",
       "      <td>0.0</td>\n",
       "      <td>0.0</td>\n",
       "    </tr>\n",
       "  </tbody>\n",
       "</table>\n",
       "<p>5 rows × 16431 columns</p>\n",
       "</div>"
      ],
      "text/plain": [
       "Symbol  0610007P14Rik  0610009B22Rik  0610009D07Rik  0610009E02Rik  \\\n",
       "0           -0.034682            0.0      -0.080925      -0.017341   \n",
       "1           -0.034682            0.0      -0.080925      -0.017341   \n",
       "2           -0.034682            0.0      -0.080925      -0.017341   \n",
       "3           -0.034682            0.0      -0.080925      -0.017341   \n",
       "4           -0.034682            0.0      -0.080925      -0.017341   \n",
       "\n",
       "Symbol  0610009L18Rik  0610009O20Rik  0610010F05Rik  0610010K14Rik  \\\n",
       "0            -0.00578      -0.017341      -0.040462       -0.00578   \n",
       "1            -0.00578      -0.017341      -0.040462       -0.00578   \n",
       "2            -0.00578      -0.017341      -0.040462       -0.00578   \n",
       "3            -0.00578      -0.017341      -0.040462       -0.00578   \n",
       "4            -0.00578      -0.017341      -0.040462       -0.00578   \n",
       "\n",
       "Symbol  0610011F06Rik  0610030E20Rik  ...  Gm8226  Gm996  Ighg1  Mboat4  \\\n",
       "0                 0.0      -0.052023  ...     0.0    0.0    0.0     0.0   \n",
       "1                 0.0      -0.052023  ...     0.0    0.0    0.0     0.0   \n",
       "2                 0.0      -0.052023  ...     0.0    0.0    0.0     0.0   \n",
       "3                 0.0      -0.052023  ...     0.0    0.0    0.0     0.0   \n",
       "4                 0.0      -0.052023  ...     0.0    0.0    0.0     0.0   \n",
       "\n",
       "Symbol  Mir3068  Sdsl  Slc36a3  Sync  Syngr4  Tuba3a  \n",
       "0           0.0   0.0      0.0   0.0     0.0     0.0  \n",
       "1           0.0   0.0      0.0   0.0     0.0     0.0  \n",
       "2           0.0   0.0      0.0   0.0     0.0     0.0  \n",
       "3           0.0   0.0      0.0   0.0     0.0     0.0  \n",
       "4           0.0   0.0      0.0   0.0     0.0     0.0  \n",
       "\n",
       "[5 rows x 16431 columns]"
      ]
     },
     "execution_count": 45,
     "metadata": {},
     "output_type": "execute_result"
    }
   ],
   "source": [
    "counts = scprep.normalize.batch_mean_center(counts)\n",
    "counts.head()"
   ]
  },
  {
   "cell_type": "code",
   "execution_count": 47,
   "metadata": {},
   "outputs": [
    {
     "name": "stdout",
     "output_type": "stream",
     "text": [
      "Calculating MAGIC...\n",
      "  Running MAGIC on 173 cells and 16431 genes.\n",
      "  Calculating graph and diffusion operator...\n",
      "    Calculating PCA...\n"
     ]
    },
    {
     "name": "stderr",
     "output_type": "stream",
     "text": [
      "c:\\users\\scott\\envs\\python\\immune\\lib\\site-packages\\magic\\magic.py:474: UserWarning: Input matrix contains unexpressed genes. Please remove them prior to running MAGIC.\n",
      "  warnings.warn(\n"
     ]
    },
    {
     "name": "stdout",
     "output_type": "stream",
     "text": [
      "    Calculated PCA in 0.55 seconds.\n",
      "    Calculating KNN search...\n",
      "    Calculating affinities...\n",
      "  Calculated graph and diffusion operator in 0.57 seconds.\n",
      "  Running MAGIC with `solver='exact'` on 16431-dimensional data may take a long time. Consider denoising specific genes with `genes=<list-like>` or using `solver='approximate'`.\n",
      "  Calculating imputation...\n",
      "  Calculated imputation in 0.02 seconds.\n",
      "Calculated MAGIC in 0.63 seconds.\n"
     ]
    }
   ],
   "source": [
    "magic_op = magic.MAGIC()\n",
    "nk_magic = magic_op.fit_transform(counts, genes=\"all_genes\")"
   ]
  },
  {
   "cell_type": "code",
   "execution_count": 48,
   "metadata": {},
   "outputs": [
    {
     "name": "stdout",
     "output_type": "stream",
     "text": [
      "Symbol  0610007P14Rik  0610009B22Rik  0610009D07Rik  0610009E02Rik  \\\n",
      "0           -0.000225            0.0       0.011710      -0.015933   \n",
      "1            0.001080            0.0      -0.009408      -0.016652   \n",
      "2            0.000755            0.0      -0.013664      -0.016958   \n",
      "3           -0.002086            0.0      -0.016465      -0.017187   \n",
      "4            0.006079            0.0      -0.013279      -0.017123   \n",
      "..                ...            ...            ...            ...   \n",
      "168         -0.010014            0.0       0.002316      -0.004607   \n",
      "169         -0.015607            0.0       0.006084      -0.013698   \n",
      "170         -0.021108            0.0      -0.006623       0.011833   \n",
      "171          0.048983            0.0       0.009239       0.093950   \n",
      "172         -0.021028            0.0       0.015043      -0.014862   \n",
      "\n",
      "Symbol  0610009L18Rik  0610009O20Rik  0610010F05Rik  0610010K14Rik  \\\n",
      "0            0.026578       0.009798      -0.037135      -0.005780   \n",
      "1            0.023267       0.009645      -0.036618      -0.005780   \n",
      "2            0.020906       0.008058      -0.036824      -0.005780   \n",
      "3            0.017573       0.007986      -0.038725      -0.005780   \n",
      "4            0.023087       0.010432      -0.036930      -0.005780   \n",
      "..                ...            ...            ...            ...   \n",
      "168          0.007701      -0.004120      -0.014280      -0.005780   \n",
      "169         -0.005634      -0.013632      -0.006703      -0.001331   \n",
      "170         -0.001630      -0.008586      -0.005293      -0.005780   \n",
      "171         -0.005780       0.044509       0.072453       0.040484   \n",
      "172         -0.005694      -0.014310      -0.004601      -0.003670   \n",
      "\n",
      "Symbol  0610011F06Rik  0610030E20Rik  ...  Gm8226  Gm996  Ighg1  Mboat4  \\\n",
      "0                 0.0      -0.028296  ...     0.0    0.0    0.0     0.0   \n",
      "1                 0.0      -0.041908  ...     0.0    0.0    0.0     0.0   \n",
      "2                 0.0      -0.045651  ...     0.0    0.0    0.0     0.0   \n",
      "3                 0.0      -0.047667  ...     0.0    0.0    0.0     0.0   \n",
      "4                 0.0      -0.047734  ...     0.0    0.0    0.0     0.0   \n",
      "..                ...            ...  ...     ...    ...    ...     ...   \n",
      "168               0.0      -0.018636  ...     0.0    0.0    0.0     0.0   \n",
      "169               0.0       0.052925  ...     0.0    0.0    0.0     0.0   \n",
      "170               0.0      -0.017039  ...     0.0    0.0    0.0     0.0   \n",
      "171               0.0       0.047611  ...     0.0    0.0    0.0     0.0   \n",
      "172               0.0       0.057243  ...     0.0    0.0    0.0     0.0   \n",
      "\n",
      "Symbol  Mir3068  Sdsl  Slc36a3  Sync  Syngr4  Tuba3a  \n",
      "0           0.0   0.0      0.0   0.0     0.0     0.0  \n",
      "1           0.0   0.0      0.0   0.0     0.0     0.0  \n",
      "2           0.0   0.0      0.0   0.0     0.0     0.0  \n",
      "3           0.0   0.0      0.0   0.0     0.0     0.0  \n",
      "4           0.0   0.0      0.0   0.0     0.0     0.0  \n",
      "..          ...   ...      ...   ...     ...     ...  \n",
      "168         0.0   0.0      0.0   0.0     0.0     0.0  \n",
      "169         0.0   0.0      0.0   0.0     0.0     0.0  \n",
      "170         0.0   0.0      0.0   0.0     0.0     0.0  \n",
      "171         0.0   0.0      0.0   0.0     0.0     0.0  \n",
      "172         0.0   0.0      0.0   0.0     0.0     0.0  \n",
      "\n",
      "[173 rows x 16431 columns]\n"
     ]
    }
   ],
   "source": [
    "print(nk_magic)"
   ]
  },
  {
   "cell_type": "code",
   "execution_count": 49,
   "metadata": {},
   "outputs": [],
   "source": [
    "import seaborn as sns\n",
    "nk_magic[\"Time\"] = celltype"
   ]
  },
  {
   "cell_type": "code",
   "execution_count": 50,
   "metadata": {},
   "outputs": [
    {
     "name": "stdout",
     "output_type": "stream",
     "text": [
      "Symbol  0610007P14Rik  0610009B22Rik  0610009D07Rik  0610009E02Rik  \\\n",
      "0           -0.000225            0.0       0.011710      -0.015933   \n",
      "1            0.001080            0.0      -0.009408      -0.016652   \n",
      "2            0.000755            0.0      -0.013664      -0.016958   \n",
      "3           -0.002086            0.0      -0.016465      -0.017187   \n",
      "4            0.006079            0.0      -0.013279      -0.017123   \n",
      "\n",
      "Symbol  0610009L18Rik  0610009O20Rik  0610010F05Rik  0610010K14Rik  \\\n",
      "0            0.026578       0.009798      -0.037135       -0.00578   \n",
      "1            0.023267       0.009645      -0.036618       -0.00578   \n",
      "2            0.020906       0.008058      -0.036824       -0.00578   \n",
      "3            0.017573       0.007986      -0.038725       -0.00578   \n",
      "4            0.023087       0.010432      -0.036930       -0.00578   \n",
      "\n",
      "Symbol  0610011F06Rik  0610030E20Rik  ...  Gm996  Ighg1  Mboat4  Mir3068  \\\n",
      "0                 0.0      -0.028296  ...    0.0    0.0     0.0      0.0   \n",
      "1                 0.0      -0.041908  ...    0.0    0.0     0.0      0.0   \n",
      "2                 0.0      -0.045651  ...    0.0    0.0     0.0      0.0   \n",
      "3                 0.0      -0.047667  ...    0.0    0.0     0.0      0.0   \n",
      "4                 0.0      -0.047734  ...    0.0    0.0     0.0      0.0   \n",
      "\n",
      "Symbol  Sdsl  Slc36a3  Sync  Syngr4  Tuba3a         Time  \n",
      "0        0.0      0.0   0.0     0.0     0.0  NK Cells  0  \n",
      "1        0.0      0.0   0.0     0.0     0.0  NK Cells  0  \n",
      "2        0.0      0.0   0.0     0.0     0.0  NK Cells  0  \n",
      "3        0.0      0.0   0.0     0.0     0.0  NK Cells  0  \n",
      "4        0.0      0.0   0.0     0.0     0.0  NK Cells  0  \n",
      "\n",
      "[5 rows x 16432 columns]\n"
     ]
    }
   ],
   "source": [
    "nk_magic['Time'] = nk_magic['Time'].astype(str).replace('\\.[0-9]+', '', regex=True)\n",
    "print(nk_magic.head())"
   ]
  },
  {
   "cell_type": "code",
   "execution_count": 51,
   "metadata": {},
   "outputs": [],
   "source": [
    "time = nk_magic['Time']\n",
    "nk_magic = nk_magic.drop('Time', axis=1)"
   ]
  },
  {
   "cell_type": "code",
   "execution_count": 53,
   "metadata": {},
   "outputs": [],
   "source": [
    "nk_magic = nk_magic.round(decimals=2)"
   ]
  },
  {
   "cell_type": "markdown",
   "metadata": {},
   "source": [
    "Now let's make a heatmap of the data"
   ]
  },
  {
   "cell_type": "code",
   "execution_count": 54,
   "metadata": {},
   "outputs": [
    {
     "ename": "MemoryError",
     "evalue": "Unable to allocate 21.7 MiB for an array with shape (16431, 173) and data type float64",
     "output_type": "error",
     "traceback": [
      "\u001b[1;31m---------------------------------------------------------------------------\u001b[0m",
      "\u001b[1;31mMemoryError\u001b[0m                               Traceback (most recent call last)",
      "\u001b[1;32m<ipython-input-54-e6e813cbab75>\u001b[0m in \u001b[0;36m<module>\u001b[1;34m\u001b[0m\n\u001b[0;32m      1\u001b[0m \u001b[0mnk_magic\u001b[0m\u001b[1;33m.\u001b[0m\u001b[0mindex\u001b[0m \u001b[1;33m=\u001b[0m \u001b[0mtime\u001b[0m\u001b[1;33m\u001b[0m\u001b[1;33m\u001b[0m\u001b[0m\n\u001b[1;32m----> 2\u001b[1;33m \u001b[0msns\u001b[0m\u001b[1;33m.\u001b[0m\u001b[0mheatmap\u001b[0m\u001b[1;33m(\u001b[0m\u001b[0mdata\u001b[0m\u001b[1;33m=\u001b[0m\u001b[0mnk_magic\u001b[0m\u001b[1;33m.\u001b[0m\u001b[0mtranspose\u001b[0m\u001b[1;33m(\u001b[0m\u001b[1;33m)\u001b[0m\u001b[1;33m,\u001b[0m \u001b[0mrobust\u001b[0m\u001b[1;33m=\u001b[0m\u001b[1;32mTrue\u001b[0m\u001b[1;33m)\u001b[0m\u001b[1;33m\u001b[0m\u001b[1;33m\u001b[0m\u001b[0m\n\u001b[0m",
      "\u001b[1;32mc:\\users\\scott\\envs\\python\\immune\\lib\\site-packages\\seaborn\\_decorators.py\u001b[0m in \u001b[0;36minner_f\u001b[1;34m(*args, **kwargs)\u001b[0m\n\u001b[0;32m     44\u001b[0m             )\n\u001b[0;32m     45\u001b[0m         \u001b[0mkwargs\u001b[0m\u001b[1;33m.\u001b[0m\u001b[0mupdate\u001b[0m\u001b[1;33m(\u001b[0m\u001b[1;33m{\u001b[0m\u001b[0mk\u001b[0m\u001b[1;33m:\u001b[0m \u001b[0marg\u001b[0m \u001b[1;32mfor\u001b[0m \u001b[0mk\u001b[0m\u001b[1;33m,\u001b[0m \u001b[0marg\u001b[0m \u001b[1;32min\u001b[0m \u001b[0mzip\u001b[0m\u001b[1;33m(\u001b[0m\u001b[0msig\u001b[0m\u001b[1;33m.\u001b[0m\u001b[0mparameters\u001b[0m\u001b[1;33m,\u001b[0m \u001b[0margs\u001b[0m\u001b[1;33m)\u001b[0m\u001b[1;33m}\u001b[0m\u001b[1;33m)\u001b[0m\u001b[1;33m\u001b[0m\u001b[1;33m\u001b[0m\u001b[0m\n\u001b[1;32m---> 46\u001b[1;33m         \u001b[1;32mreturn\u001b[0m \u001b[0mf\u001b[0m\u001b[1;33m(\u001b[0m\u001b[1;33m**\u001b[0m\u001b[0mkwargs\u001b[0m\u001b[1;33m)\u001b[0m\u001b[1;33m\u001b[0m\u001b[1;33m\u001b[0m\u001b[0m\n\u001b[0m\u001b[0;32m     47\u001b[0m     \u001b[1;32mreturn\u001b[0m \u001b[0minner_f\u001b[0m\u001b[1;33m\u001b[0m\u001b[1;33m\u001b[0m\u001b[0m\n\u001b[0;32m     48\u001b[0m \u001b[1;33m\u001b[0m\u001b[0m\n",
      "\u001b[1;32mc:\\users\\scott\\envs\\python\\immune\\lib\\site-packages\\seaborn\\matrix.py\u001b[0m in \u001b[0;36mheatmap\u001b[1;34m(data, vmin, vmax, cmap, center, robust, annot, fmt, annot_kws, linewidths, linecolor, cbar, cbar_kws, cbar_ax, square, xticklabels, yticklabels, mask, ax, **kwargs)\u001b[0m\n\u001b[0;32m    533\u001b[0m     \"\"\"\n\u001b[0;32m    534\u001b[0m     \u001b[1;31m# Initialize the plotter object\u001b[0m\u001b[1;33m\u001b[0m\u001b[1;33m\u001b[0m\u001b[1;33m\u001b[0m\u001b[0m\n\u001b[1;32m--> 535\u001b[1;33m     plotter = _HeatMapper(data, vmin, vmax, cmap, center, robust, annot, fmt,\n\u001b[0m\u001b[0;32m    536\u001b[0m                           \u001b[0mannot_kws\u001b[0m\u001b[1;33m,\u001b[0m \u001b[0mcbar\u001b[0m\u001b[1;33m,\u001b[0m \u001b[0mcbar_kws\u001b[0m\u001b[1;33m,\u001b[0m \u001b[0mxticklabels\u001b[0m\u001b[1;33m,\u001b[0m\u001b[1;33m\u001b[0m\u001b[1;33m\u001b[0m\u001b[0m\n\u001b[0;32m    537\u001b[0m                           yticklabels, mask)\n",
      "\u001b[1;32mc:\\users\\scott\\envs\\python\\immune\\lib\\site-packages\\seaborn\\matrix.py\u001b[0m in \u001b[0;36m__init__\u001b[1;34m(self, data, vmin, vmax, cmap, center, robust, annot, fmt, annot_kws, cbar, cbar_kws, xticklabels, yticklabels, mask)\u001b[0m\n\u001b[0;32m    153\u001b[0m \u001b[1;33m\u001b[0m\u001b[0m\n\u001b[0;32m    154\u001b[0m         \u001b[1;31m# Determine good default values for the colormapping\u001b[0m\u001b[1;33m\u001b[0m\u001b[1;33m\u001b[0m\u001b[1;33m\u001b[0m\u001b[0m\n\u001b[1;32m--> 155\u001b[1;33m         self._determine_cmap_params(plot_data, vmin, vmax,\n\u001b[0m\u001b[0;32m    156\u001b[0m                                     cmap, center, robust)\n\u001b[0;32m    157\u001b[0m \u001b[1;33m\u001b[0m\u001b[0m\n",
      "\u001b[1;32mc:\\users\\scott\\envs\\python\\immune\\lib\\site-packages\\seaborn\\matrix.py\u001b[0m in \u001b[0;36m_determine_cmap_params\u001b[1;34m(self, plot_data, vmin, vmax, cmap, center, robust)\u001b[0m\n\u001b[0;32m    187\u001b[0m \u001b[1;33m\u001b[0m\u001b[0m\n\u001b[0;32m    188\u001b[0m         \u001b[1;31m# plot_data is a np.ma.array instance\u001b[0m\u001b[1;33m\u001b[0m\u001b[1;33m\u001b[0m\u001b[1;33m\u001b[0m\u001b[0m\n\u001b[1;32m--> 189\u001b[1;33m         \u001b[0mcalc_data\u001b[0m \u001b[1;33m=\u001b[0m \u001b[0mplot_data\u001b[0m\u001b[1;33m.\u001b[0m\u001b[0mastype\u001b[0m\u001b[1;33m(\u001b[0m\u001b[0mfloat\u001b[0m\u001b[1;33m)\u001b[0m\u001b[1;33m.\u001b[0m\u001b[0mfilled\u001b[0m\u001b[1;33m(\u001b[0m\u001b[0mnp\u001b[0m\u001b[1;33m.\u001b[0m\u001b[0mnan\u001b[0m\u001b[1;33m)\u001b[0m\u001b[1;33m\u001b[0m\u001b[1;33m\u001b[0m\u001b[0m\n\u001b[0m\u001b[0;32m    190\u001b[0m         \u001b[1;32mif\u001b[0m \u001b[0mvmin\u001b[0m \u001b[1;32mis\u001b[0m \u001b[1;32mNone\u001b[0m\u001b[1;33m:\u001b[0m\u001b[1;33m\u001b[0m\u001b[1;33m\u001b[0m\u001b[0m\n\u001b[0;32m    191\u001b[0m             \u001b[1;32mif\u001b[0m \u001b[0mrobust\u001b[0m\u001b[1;33m:\u001b[0m\u001b[1;33m\u001b[0m\u001b[1;33m\u001b[0m\u001b[0m\n",
      "\u001b[1;31mMemoryError\u001b[0m: Unable to allocate 21.7 MiB for an array with shape (16431, 173) and data type float64"
     ]
    }
   ],
   "source": [
    "nk_magic.index = time\n",
    "sns.heatmap(data=nk_magic.transpose(), robust=True)"
   ]
  },
  {
   "cell_type": "code",
   "execution_count": 20,
   "metadata": {},
   "outputs": [
    {
     "data": {
      "image/png": "[encoded data removed]",
      "text/plain": [
       "<Figure size 432x288 with 2 Axes>"
      ]
     },
     "metadata": {
      "needs_background": "light"
     },
     "output_type": "display_data"
    }
   ],
   "source": [
    "scprep.plot.scatter(x=nk_magic['Sdsl'],\n",
    "                    y=nk_magic['Gm8226'], \n",
    "                    c=nk_magic['Hif1a'])\n",
    "\n",
    "plt.tight_layout()\n",
    "plt.show()"
   ]
  },
  {
   "cell_type": "code",
   "execution_count": 9,
   "metadata": {},
   "outputs": [
    {
     "name": "stdout",
     "output_type": "stream",
     "text": [
      "(1662, 16431)\n"
     ]
    }
   ],
   "source": [
    "print(nk_magic.shape)"
   ]
  }
 ],
 "metadata": {
  "kernelspec": {
   "display_name": "immune",
   "language": "python",
   "name": "immune"
  },
  "language_info": {
   "codemirror_mode": {
    "name": "ipython",
    "version": 3
   },
   "file_extension": ".py",
   "mimetype": "text/x-python",
   "name": "python",
   "nbconvert_exporter": "python",
   "pygments_lexer": "ipython3",
   "version": "3.9.0"
  }
 },
 "nbformat": 4,
 "nbformat_minor": 4
}
