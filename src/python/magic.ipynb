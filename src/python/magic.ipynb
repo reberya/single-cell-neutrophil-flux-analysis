{
 "cells": [
  {
   "cell_type": "markdown",
   "metadata": {},
   "source": [
    "# Running MAGIC and PHATE on Immunometabolism dataset\n",
    "**Author:** Scott Campit"
   ]
  },
  {
   "cell_type": "markdown",
   "metadata": {},
   "source": [
    "# Summary\n",
    "This notebook performs data imputation using MAGIC for single-cell COBRA analyses.\n",
    "\n",
    "To visualize the results, we will use PHATE, which was also developed in the same lab."
   ]
  },
  {
   "cell_type": "code",
   "execution_count": 1,
   "metadata": {},
   "outputs": [
    {
     "name": "stdout",
     "output_type": "stream",
     "text": [
      "/sw/arcts/centos7/python3.8-anaconda/2020.07/bin/python\n",
      "3.8.3 (default, Jul  2 2020, 16:21:59) \n",
      "[GCC 7.3.0]\n",
      "sys.version_info(major=3, minor=8, micro=3, releaselevel='final', serial=0)\n"
     ]
    }
   ],
   "source": [
    "#!pip install --user magic-impute\n",
    "#!pip install --user phate\n",
    "import magic\n",
    "import phate\n",
    "import scprep\n",
    "\n",
    "import numpy as np\n",
    "import pandas as pd\n",
    "import matplotlib\n",
    "import matplotlib.pyplot as plt\n",
    "\n",
    "# Read excel files\n",
    "import xlrd\n",
    "import openpyxl\n",
    "from openpyxl import load_workbook\n",
    "\n",
    "import sys\n",
    "print(sys.executable)\n",
    "print(sys.version)\n",
    "print(sys.version_info)"
   ]
  },
  {
   "cell_type": "code",
   "execution_count": null,
   "metadata": {},
   "outputs": [],
   "source": []
  },
  {
   "cell_type": "markdown",
   "metadata": {},
   "source": [
    "# 1. Import data\n",
    "First, let's import the immunometabolism data. I saved the data as an excel file where each sheet is a different cell lineage. The rows correspond to individual genes. The columns correspond to different time points."
   ]
  },
  {
   "cell_type": "code",
   "execution_count": 2,
   "metadata": {},
   "outputs": [
    {
     "name": "stdout",
     "output_type": "stream",
     "text": [
      "['Stromal', 'AlveolarMacrophages', 'Macrophages', 'Monocytes', 'Pneumocytes', 'Bcells', 'Granulocytes', 'Tcells', 'Dendritic', 'Neutrophils', 'NK', 'Endothelial', 'HSC']\n"
     ]
    }
   ],
   "source": [
    "# ACLX\n",
    "#datapath = r\"C:\\Users\\scott\\Data\\scRNASeq\\shea\\celldf.xlsx\"\n",
    "\n",
    "# Dell\n",
    "#datapath = r\"D:\\Data\\scRNASeq\\shea\\celldf_ensembl.xlsx\"\n",
    "\n",
    "# Server\n",
    "datapath = '/nfs/turbo/umms-csriram/scampit/Ryan/Projects/single-cell-neutrophil-flux-analysis/data/celldf_ensembl.xlsx'\n",
    "\n",
    "wb = load_workbook(filename=datapath, read_only=True)\n",
    "print(wb.sheetnames)"
   ]
  },
  {
   "cell_type": "markdown",
   "metadata": {},
   "source": [
    "Let's get the original IDs, which are the column names in the `lung.csv` file. I need those to map back metabolic fluxes to the original dimension reduction plots."
   ]
  },
  {
   "cell_type": "code",
   "execution_count": 3,
   "metadata": {},
   "outputs": [],
   "source": [
    "#datapath = r\"D:\\Data\\scRNASeq\\shea\\lung.csv\"\n",
    "#counts2 = pd.read_csv(datapath, delimiter=',')"
   ]
  },
  {
   "cell_type": "markdown",
   "metadata": {},
   "source": [
    "# 2. Analyze Neutrophil data specifically\n",
    "Let's write up some code to preprocess the dataset. We'll analyze the Neutrophil dataset first, because that's the main dataset of interest."
   ]
  },
  {
   "cell_type": "code",
   "execution_count": 4,
   "metadata": {},
   "outputs": [
    {
     "name": "stdout",
     "output_type": "stream",
     "text": [
      "      MGI.symbol      HGNC.symbol  NCBI.gene..formerly.Entrezgene..ID  \\\n",
      "0  0610010F05Rik         KIAA1841                             84542.0   \n",
      "1  0610010K14Rik  RNASEK-C17orf49                                 NaN   \n",
      "2  0610010K14Rik         C17orf49                            124944.0   \n",
      "3  0610030E20Rik          C2orf68                            388969.0   \n",
      "4  0610040J01Rik          C4orf19                             55286.0   \n",
      "5  1110002E22Rik          C4orf54                            285556.0   \n",
      "6  1110004F10Rik         C11orf58                             10944.0   \n",
      "7  1110008P14Rik          C9orf16                             79095.0   \n",
      "8  1110012L19Rik            EOLA1                             91966.0   \n",
      "9  1110012L19Rik            EOLA2                            541578.0   \n",
      "\n",
      "    Gene.stable.ID  Neutrophils  0  Neutrophils  14  Neutrophils  14.1  \\\n",
      "0  ENSG00000162929               0                0                  0   \n",
      "1  ENSG00000161939               0                0                  0   \n",
      "2  ENSG00000258315               0                0                  0   \n",
      "3  ENSG00000168887               0                0                  0   \n",
      "4  ENSG00000154274               0                0                  0   \n",
      "5  ENSG00000248713               0                0                  0   \n",
      "6  ENSG00000110696               0                0                  0   \n",
      "7  ENSG00000171159               0                0                  0   \n",
      "8  ENSG00000197620               0                0                  0   \n",
      "9  ENSG00000197021               0                0                  0   \n",
      "\n",
      "   Neutrophils  14.2  Neutrophils  14.3  Neutrophils  14.4  ...  \\\n",
      "0                  0                  0                  0  ...   \n",
      "1                  0                  0                  0  ...   \n",
      "2                  0                  0                  0  ...   \n",
      "3                  0                  0                  0  ...   \n",
      "4                  0                  0                  0  ...   \n",
      "5                  0                  0                  0  ...   \n",
      "6                  0                  0                  0  ...   \n",
      "7                  0                  0                  0  ...   \n",
      "8                  0                  0                  0  ...   \n",
      "9                  0                  0                  0  ...   \n",
      "\n",
      "   Neutrophils  21.2097  Neutrophils  21.2098  Neutrophils  21.2099  \\\n",
      "0                     0                     0                     0   \n",
      "1                     0                     0                     0   \n",
      "2                     0                     0                     0   \n",
      "3                     1                     1                     1   \n",
      "4                     0                     0                     0   \n",
      "5                     0                     0                     0   \n",
      "6                     0                     0                     1   \n",
      "7                     0                     0                     0   \n",
      "8                     0                     0                     0   \n",
      "9                     0                     0                     0   \n",
      "\n",
      "   Neutrophils  21.2100  Neutrophils  21.2101  Neutrophils  21.2102  \\\n",
      "0                     0                     0                     0   \n",
      "1                     0                     0                     0   \n",
      "2                     0                     0                     0   \n",
      "3                     0                     0                     0   \n",
      "4                     0                     0                     0   \n",
      "5                     0                     0                     0   \n",
      "6                     1                     0                     0   \n",
      "7                     0                     0                     0   \n",
      "8                     0                     0                     0   \n",
      "9                     0                     0                     0   \n",
      "\n",
      "   Neutrophils  21.2103  Neutrophils  21.2104  Neutrophils  21.2105  \\\n",
      "0                     0                     0                     0   \n",
      "1                     0                     0                     0   \n",
      "2                     0                     0                     0   \n",
      "3                     0                     0                     1   \n",
      "4                     0                     0                     0   \n",
      "5                     0                     0                     0   \n",
      "6                     1                     1                     0   \n",
      "7                     0                     0                     0   \n",
      "8                     0                     0                     0   \n",
      "9                     0                     0                     0   \n",
      "\n",
      "           Ensembl  \n",
      "0  ENSG00000162929  \n",
      "1  ENSG00000161939  \n",
      "2  ENSG00000258315  \n",
      "3  ENSG00000168887  \n",
      "4  ENSG00000154274  \n",
      "5  ENSG00000248713  \n",
      "6  ENSG00000110696  \n",
      "7  ENSG00000171159  \n",
      "8  ENSG00000197620  \n",
      "9  ENSG00000197021  \n",
      "\n",
      "[10 rows x 3180 columns]\n"
     ]
    }
   ],
   "source": [
    "counts2 = pd.read_excel(datapath, \n",
    "                       sheet_name=wb.sheetnames[9])\n",
    "print(counts2.head(10))"
   ]
  },
  {
   "cell_type": "markdown",
   "metadata": {},
   "source": [
    "First, let's grab the metadata we need."
   ]
  },
  {
   "cell_type": "code",
   "execution_count": 5,
   "metadata": {},
   "outputs": [
    {
     "name": "stdout",
     "output_type": "stream",
     "text": [
      "   Neutrophils  0  Neutrophils  14  Neutrophils  14.1  Neutrophils  14.2  \\\n",
      "0               0                0                  0                  0   \n",
      "1               0                0                  0                  0   \n",
      "2               0                0                  0                  0   \n",
      "3               0                0                  0                  0   \n",
      "4               0                0                  0                  0   \n",
      "\n",
      "   Neutrophils  14.3  Neutrophils  14.4  Neutrophils  14.5  Neutrophils  14.6  \\\n",
      "0                  0                  0                  0                  0   \n",
      "1                  0                  0                  0                  0   \n",
      "2                  0                  0                  0                  0   \n",
      "3                  0                  0                  0                  0   \n",
      "4                  0                  0                  0                  0   \n",
      "\n",
      "   Neutrophils  14.7  Neutrophils  14.8  ...  Neutrophils  21.2096  \\\n",
      "0                  0                  0  ...                     0   \n",
      "1                  0                  0  ...                     0   \n",
      "2                  0                  0  ...                     0   \n",
      "3                  0                  0  ...                     1   \n",
      "4                  0                  0  ...                     0   \n",
      "\n",
      "   Neutrophils  21.2097  Neutrophils  21.2098  Neutrophils  21.2099  \\\n",
      "0                     0                     0                     0   \n",
      "1                     0                     0                     0   \n",
      "2                     0                     0                     0   \n",
      "3                     1                     1                     1   \n",
      "4                     0                     0                     0   \n",
      "\n",
      "   Neutrophils  21.2100  Neutrophils  21.2101  Neutrophils  21.2102  \\\n",
      "0                     0                     0                     0   \n",
      "1                     0                     0                     0   \n",
      "2                     0                     0                     0   \n",
      "3                     0                     0                     0   \n",
      "4                     0                     0                     0   \n",
      "\n",
      "   Neutrophils  21.2103  Neutrophils  21.2104  Neutrophils  21.2105  \n",
      "0                     0                     0                     0  \n",
      "1                     0                     0                     0  \n",
      "2                     0                     0                     0  \n",
      "3                     0                     0                     1  \n",
      "4                     0                     0                     0  \n",
      "\n",
      "[5 rows x 3175 columns]\n"
     ]
    }
   ],
   "source": [
    "# Drop symbols\n",
    "ids = counts2[\"Gene.stable.ID\"]\n",
    "counts2 = counts2.drop(['MGI.symbol', \n",
    "                      'HGNC.symbol', \n",
    "                      'NCBI.gene..formerly.Entrezgene..ID', \\\n",
    "                      'Gene.stable.ID',\n",
    "                      'Ensembl'], axis=1)\n",
    "\n",
    "# Grab cell names\n",
    "celltype = counts2.columns\n",
    "\n",
    "print(counts2.head())"
   ]
  },
  {
   "cell_type": "markdown",
   "metadata": {},
   "source": [
    "Then let's print the resulting dataframe."
   ]
  },
  {
   "cell_type": "markdown",
   "metadata": {},
   "source": [
    "The data is current arranged where the rows are genes and the columns are cell lines. Let's transpose the matrix so that columns are genes and rows are cell lines."
   ]
  },
  {
   "cell_type": "code",
   "execution_count": 6,
   "metadata": {},
   "outputs": [],
   "source": [
    "counts2 = counts2.transpose()\n",
    "counts2 = counts2.reset_index()\n",
    "counts2 = counts2.drop('index', axis=1)"
   ]
  },
  {
   "cell_type": "markdown",
   "metadata": {},
   "source": [
    "Set the columns to be gene symbols"
   ]
  },
  {
   "cell_type": "code",
   "execution_count": 7,
   "metadata": {},
   "outputs": [
    {
     "name": "stdout",
     "output_type": "stream",
     "text": [
      "Gene.stable.ID     ENSG00000162929  ENSG00000161939  ENSG00000258315  \\\n",
      "Neutrophils  0                   0                0                0   \n",
      "Neutrophils  14                  0                0                0   \n",
      "Neutrophils  14.1                0                0                0   \n",
      "Neutrophils  14.2                0                0                0   \n",
      "Neutrophils  14.3                0                0                0   \n",
      "\n",
      "Gene.stable.ID     ENSG00000168887  ENSG00000154274  ENSG00000248713  \\\n",
      "Neutrophils  0                   0                0                0   \n",
      "Neutrophils  14                  0                0                0   \n",
      "Neutrophils  14.1                0                0                0   \n",
      "Neutrophils  14.2                0                0                0   \n",
      "Neutrophils  14.3                0                0                0   \n",
      "\n",
      "Gene.stable.ID     ENSG00000110696  ENSG00000171159  ENSG00000197620  \\\n",
      "Neutrophils  0                   0                0                0   \n",
      "Neutrophils  14                  0                0                0   \n",
      "Neutrophils  14.1                0                0                0   \n",
      "Neutrophils  14.2                0                0                0   \n",
      "Neutrophils  14.3                0                0                0   \n",
      "\n",
      "Gene.stable.ID     ENSG00000197021  ...  ENSG00000214941  ENSG00000214655  \\\n",
      "Neutrophils  0                   0  ...                0                0   \n",
      "Neutrophils  14                  0  ...                0                0   \n",
      "Neutrophils  14.1                0  ...                0                0   \n",
      "Neutrophils  14.2                0  ...                0                0   \n",
      "Neutrophils  14.3                0  ...                0                0   \n",
      "\n",
      "Gene.stable.ID     ENSG00000086827  ENSG00000174442  ENSG00000122952  \\\n",
      "Neutrophils  0                   0                0                0   \n",
      "Neutrophils  14                  0                0                0   \n",
      "Neutrophils  14.1                0                0                0   \n",
      "Neutrophils  14.2                0                0                0   \n",
      "Neutrophils  14.3                0                0                0   \n",
      "\n",
      "Gene.stable.ID     ENSG00000070476  ENSG00000162378  ENSG00000159840  \\\n",
      "Neutrophils  0                   0                0                2   \n",
      "Neutrophils  14                  0                0                0   \n",
      "Neutrophils  14.1                0                0                0   \n",
      "Neutrophils  14.2                0                0                0   \n",
      "Neutrophils  14.3                0                1                0   \n",
      "\n",
      "Gene.stable.ID     ENSG00000074755  ENSG00000036549  \n",
      "Neutrophils  0                   0                2  \n",
      "Neutrophils  14                  1                0  \n",
      "Neutrophils  14.1                0                0  \n",
      "Neutrophils  14.2                0                0  \n",
      "Neutrophils  14.3                0                0  \n",
      "\n",
      "[5 rows x 13944 columns]\n"
     ]
    }
   ],
   "source": [
    "counts2.columns = ids\n",
    "counts2.index = celltype\n",
    "print(counts2.head())"
   ]
  },
  {
   "cell_type": "markdown",
   "metadata": {},
   "source": [
    "# 2. Data Preprocessing on a Single Cell Lineage\n",
    "Let's now perform some data filtering."
   ]
  },
  {
   "cell_type": "markdown",
   "metadata": {},
   "source": [
    "##### 2a. Filtering by library size\n",
    "The library size of a cell is the number of unique mRNA molecules in the cell. As an arbitrary threshold, we will remove all cells that have fewer than 250 reads per cell."
   ]
  },
  {
   "cell_type": "code",
   "execution_count": 8,
   "metadata": {},
   "outputs": [
    {
     "data": {
      "text/plain": [
       "<AxesSubplot:xlabel='Library size', ylabel='Number of cells'>"
      ]
     },
     "execution_count": 8,
     "metadata": {},
     "output_type": "execute_result"
    },
    {
     "data": {
      "image/png": "[encoded data removed]",
      "text/plain": [
       "<Figure size 432x288 with 1 Axes>"
      ]
     },
     "metadata": {
      "needs_background": "light"
     },
     "output_type": "display_data"
    }
   ],
   "source": [
    "scprep.plot.plot_library_size(data=counts2,\n",
    "                              cutoff=250)"
   ]
  },
  {
   "cell_type": "code",
   "execution_count": 9,
   "metadata": {},
   "outputs": [
    {
     "data": {
      "text/plain": [
       "<AxesSubplot:xlabel='Library size', ylabel='Number of cells'>"
      ]
     },
     "execution_count": 9,
     "metadata": {},
     "output_type": "execute_result"
    },
    {
     "data": {
      "image/png": "[encoded data removed]",
      "text/plain": [
       "<Figure size 432x288 with 1 Axes>"
      ]
     },
     "metadata": {
      "needs_background": "light"
     },
     "output_type": "display_data"
    }
   ],
   "source": [
    "# be sure to uncomment this, unless your data is pre-filtered\n",
    "counts2 = scprep.filter.filter_library_size(counts2, cutoff=250)\n",
    "scprep.plot.plot_library_size(data=counts2,\n",
    "                              cutoff=250)"
   ]
  },
  {
   "cell_type": "markdown",
   "metadata": {},
   "source": [
    "## 2b. Filtering lowly expressed genes\n",
    "Now let's filter lowly expressed genes. First, we'll get a count of the number of genes that are expressed in each cell."
   ]
  },
  {
   "cell_type": "code",
   "execution_count": 10,
   "metadata": {},
   "outputs": [
    {
     "name": "stdout",
     "output_type": "stream",
     "text": [
      "(3146, 13944)\n"
     ]
    }
   ],
   "source": [
    "genes_per_cell = np.sum(counts2 > 0, axis=0)\n",
    "print(counts2.shape)"
   ]
  },
  {
   "cell_type": "markdown",
   "metadata": {},
   "source": [
    "Then, let's visualize the data. There are several genes showing very little expression. We'll remove rarely-expressed genes."
   ]
  },
  {
   "cell_type": "code",
   "execution_count": 11,
   "metadata": {},
   "outputs": [
    {
     "data": {
      "image/png": "[encoded data removed]",
      "text/plain": [
       "<Figure size 432x288 with 1 Axes>"
      ]
     },
     "metadata": {
      "needs_background": "light"
     },
     "output_type": "display_data"
    }
   ],
   "source": [
    "fig, ax = plt.subplots(1, figsize=(6,4))\n",
    "ax.hist(genes_per_cell, bins=100)\n",
    "ax.set_xlabel('# cells in which gene is expressed')\n",
    "ax.set_ylabel('# of genes')\n",
    "ax.set_yscale('symlog')\n",
    "ax.set_title('Gene detection across cells')\n",
    "fig.tight_layout()"
   ]
  },
  {
   "cell_type": "code",
   "execution_count": 12,
   "metadata": {},
   "outputs": [
    {
     "data": {
      "image/png": "[encoded data removed]",
      "text/plain": [
       "<Figure size 432x288 with 1 Axes>"
      ]
     },
     "metadata": {
      "needs_background": "light"
     },
     "output_type": "display_data"
    }
   ],
   "source": [
    "counts2 = scprep.filter.remove_rare_genes(counts2, cutoff=0, min_cells=5)\n",
    "fig, ax = plt.subplots(1, figsize=(6,4))\n",
    "ax.hist(genes_per_cell, bins=100)\n",
    "ax.set_xlabel('# cells in which gene is expressed')\n",
    "ax.set_ylabel('# of genes')\n",
    "ax.set_yscale('symlog')\n",
    "ax.set_title('Gene detection across cells')\n",
    "fig.tight_layout()"
   ]
  },
  {
   "cell_type": "code",
   "execution_count": 13,
   "metadata": {},
   "outputs": [
    {
     "name": "stdout",
     "output_type": "stream",
     "text": [
      "(3146, 10236)\n"
     ]
    }
   ],
   "source": [
    "print(counts2.shape)"
   ]
  },
  {
   "cell_type": "markdown",
   "metadata": {},
   "source": [
    "## 2c. Data normalization\n",
    "Now let's normalize the data. First, we'll normalize the data by library size."
   ]
  },
  {
   "cell_type": "code",
   "execution_count": 14,
   "metadata": {},
   "outputs": [],
   "source": [
    "counts2 = scprep.normalize.library_size_normalize(counts2)"
   ]
  },
  {
   "cell_type": "markdown",
   "metadata": {},
   "source": [
    "Then we'll transform the data using the square root."
   ]
  },
  {
   "cell_type": "code",
   "execution_count": 15,
   "metadata": {},
   "outputs": [
    {
     "data": {
      "text/plain": [
       "<AxesSubplot:xlabel='Library size', ylabel='Number of cells'>"
      ]
     },
     "execution_count": 15,
     "metadata": {},
     "output_type": "execute_result"
    },
    {
     "data": {
      "image/png": "[encoded data removed]",
      "text/plain": [
       "<Figure size 432x288 with 1 Axes>"
      ]
     },
     "metadata": {
      "needs_background": "light"
     },
     "output_type": "display_data"
    }
   ],
   "source": [
    "counts2 = scprep.transform.sqrt(counts2)\n",
    "scprep.plot.plot_library_size(data=counts2)"
   ]
  },
  {
   "cell_type": "markdown",
   "metadata": {},
   "source": [
    "What are you doing in the step below?\n",
    "\n",
    "I'm also getting errors for your print statment of orig_labels. I can't find a source where you load/make orig_labels in the script. "
   ]
  },
  {
   "cell_type": "code",
   "execution_count": 16,
   "metadata": {},
   "outputs": [
    {
     "name": "stdout",
     "output_type": "stream",
     "text": [
      "                                orig_col        final_col\n",
      "final_col                                                \n",
      "Neutrophils  0    lung.h.d7_CATAGTCTGCCA   Neutrophils  0\n",
      "Neutrophils  14  lung.d.d14_GTACCATGCTTN  Neutrophils  14\n",
      "Neutrophils  14  lung.d.d14_ATTCAGACTTCC  Neutrophils  14\n",
      "Neutrophils  14  lung.d.d14_TTGCACTGTCTN  Neutrophils  14\n",
      "Neutrophils  14  lung.d.d14_GCGATGCTGCCA  Neutrophils  14\n",
      "...                                  ...              ...\n",
      "Neutrophils  21  lung.d.d21_GCCCCAAGTCGT  Neutrophils  21\n",
      "Neutrophils  21  lung.d.d21_ACACTGTTTGCG  Neutrophils  21\n",
      "Neutrophils  21  lung.d.d21_CCTTCCCTCCGG  Neutrophils  21\n",
      "Neutrophils  21  lung.d.d21_TCCACTGCCACT  Neutrophils  21\n",
      "Neutrophils  21  lung.d.d21_TGATGTCCTTGG  Neutrophils  21\n",
      "\n",
      "[3175 rows x 2 columns]\n"
     ]
    }
   ],
   "source": [
    "#label_map = pd.read_csv(r\"D:/Data/scRNASeq/shea/neutrophil_colmap.csv\")\n",
    "label_map = pd.read_csv(r\"/nfs/turbo/umms-csriram/scampit/Ryan/Projects/single-cell-neutrophil-flux-analysis/data/neutrophil_colmap.csv\")\n",
    "label_map.index = label_map.final_col\n",
    "print(label_map)\n",
    "#merged_df = pd.merge(left=label_map, right=counts2, how='inner', left_on='final_col', right_index=True)\n",
    "#print(merged_df.head())\n",
    "#df.to_csv(r'D:\\Data\\scRNASeq\\shea\\filtered_neutrophils.csv')\n",
    "\n",
    "#with open(r'D:\\Data\\scRNASeq\\shea\\filtered_neutrophils.txt', 'w') as f:\n",
    "#    for item in orig_labels:\n",
    "#        f.write(\"%s\\n\" % item)\n",
    "#f.close()"
   ]
  },
  {
   "cell_type": "code",
   "execution_count": 17,
   "metadata": {},
   "outputs": [
    {
     "ename": "NameError",
     "evalue": "name 'orig_labels' is not defined",
     "output_type": "error",
     "traceback": [
      "\u001b[0;31m---------------------------------------------------------------------------\u001b[0m",
      "\u001b[0;31mNameError\u001b[0m                                 Traceback (most recent call last)",
      "\u001b[0;32m<ipython-input-17-57f94bd946da>\u001b[0m in \u001b[0;36m<module>\u001b[0;34m\u001b[0m\n\u001b[0;32m----> 1\u001b[0;31m \u001b[0mprint\u001b[0m\u001b[0;34m(\u001b[0m\u001b[0mlen\u001b[0m\u001b[0;34m(\u001b[0m\u001b[0morig_labels\u001b[0m\u001b[0;34m)\u001b[0m\u001b[0;34m)\u001b[0m\u001b[0;34m\u001b[0m\u001b[0;34m\u001b[0m\u001b[0m\n\u001b[0m",
      "\u001b[0;31mNameError\u001b[0m: name 'orig_labels' is not defined"
     ]
    }
   ],
   "source": [
    "print(len(orig_labels))"
   ]
  },
  {
   "cell_type": "markdown",
   "metadata": {},
   "source": [
    "# 3. Run MAGIC on a Single Cell Lineage\n",
    "Now let's run MAGIC for data imputation with the normalized and filtered data."
   ]
  },
  {
   "cell_type": "code",
   "execution_count": null,
   "metadata": {},
   "outputs": [],
   "source": [
    "magic_op = magic.MAGIC()\n",
    "# I switched this to counts2 as this is what you use above\n",
    "nk_magic = magic_op.fit_transform(counts2, genes=\"all_genes\")"
   ]
  },
  {
   "cell_type": "markdown",
   "metadata": {},
   "source": [
    "We can visualize the distribution of the imputed data."
   ]
  },
  {
   "cell_type": "code",
   "execution_count": null,
   "metadata": {},
   "outputs": [],
   "source": [
    "scprep.plot.plot_library_size(data=nk_magic)"
   ]
  },
  {
   "cell_type": "code",
   "execution_count": null,
   "metadata": {},
   "outputs": [],
   "source": [
    "import seaborn as sns"
   ]
  },
  {
   "cell_type": "code",
   "execution_count": null,
   "metadata": {},
   "outputs": [],
   "source": [
    "nk_magic = nk_magic.round(decimals=4)\n",
    "print(nk_magic)"
   ]
  },
  {
   "cell_type": "code",
   "execution_count": null,
   "metadata": {},
   "outputs": [],
   "source": [
    "#nk_magic.describe()\n",
    "nk_magic[~np.isfinite(nk_magic)] = 0"
   ]
  },
  {
   "cell_type": "markdown",
   "metadata": {},
   "source": [
    "Now let's make a heatmap of the data\n",
    "\n",
    "Below is throwing an error attributed to module seaborn has no attribute histplot. Might have to do with me using python 3.8.3"
   ]
  },
  {
   "cell_type": "code",
   "execution_count": null,
   "metadata": {},
   "outputs": [],
   "source": [
    "#nk_magic.index = time\n",
    "sns.histplot(data=pd.melt(nk_magic),\n",
    "             bins=100)\n",
    "\n",
    "# getting an eror here that module seaborn has no attribute histplot"
   ]
  },
  {
   "cell_type": "markdown",
   "metadata": {},
   "source": [
    "Now let's transform the normalized data into a robust Z-score and get a p-value out of it. We'll compute gene-wise Z-scores."
   ]
  },
  {
   "cell_type": "code",
   "execution_count": null,
   "metadata": {},
   "outputs": [],
   "source": [
    "from scipy.stats import median_absolute_deviation as mad\n",
    "mu = nk_magic.median(axis=0)\n",
    "n = nk_magic.shape[1]\n",
    "med_abs_dev = mad(nk_magic)\n",
    "scale_factor = 1.4826\n",
    "Z = (nk_magic - mu) / (med_abs_dev * scale_factor)\n",
    "print(Z)"
   ]
  },
  {
   "cell_type": "markdown",
   "metadata": {},
   "source": [
    "Now let's plot the resulting distribution from taking the Z-score."
   ]
  },
  {
   "cell_type": "markdown",
   "metadata": {},
   "source": [
    "Same error as above with histplot function"
   ]
  },
  {
   "cell_type": "code",
   "execution_count": null,
   "metadata": {},
   "outputs": [],
   "source": [
    "Z[~np.isfinite(Z)] = 0\n",
    "sns.histplot(data=pd.melt(Z),\n",
    "             bins=100)"
   ]
  },
  {
   "cell_type": "markdown",
   "metadata": {},
   "source": [
    "Same error as above d/t histplot fxn"
   ]
  },
  {
   "cell_type": "code",
   "execution_count": null,
   "metadata": {},
   "outputs": [],
   "source": [
    "from scipy.stats import norm\n",
    "pval = norm.sf(abs(Z))*2 \n",
    "print(pval.shape)\n",
    "sns.histplot(data=pval.flatten(),\n",
    "             bins=100)\n"
   ]
  },
  {
   "cell_type": "code",
   "execution_count": null,
   "metadata": {},
   "outputs": [],
   "source": [
    "pval = pd.DataFrame(pval,\n",
    "                    index=nk_magic.index,\n",
    "                    columns=nk_magic.columns)"
   ]
  },
  {
   "cell_type": "markdown",
   "metadata": {},
   "source": [
    "# 4. Run PHATE\n",
    "Now let's perform dimension reduction."
   ]
  },
  {
   "cell_type": "code",
   "execution_count": null,
   "metadata": {},
   "outputs": [],
   "source": [
    "phate_op = phate.PHATE()\n",
    "nk_phate = phate_op.fit_transform(nk_magic)\n",
    "\n",
    "import seaborn as sns\n",
    "\n",
    "fig, ax = plt.subplots(1, figsize=(4,4))\n",
    "sns.kdeplot(nk_phate[:,0], \n",
    "            nk_phate[:,1], \n",
    "            n_levels=100, \n",
    "            shade=True, \n",
    "            cmap='inferno', \n",
    "            zorder=0, \n",
    "            ax=ax,\n",
    "            cbar=True)\n",
    "\n",
    "ax.set_xticks([])\n",
    "ax.set_yticks([])\n",
    "\n",
    "ax.set_xlabel('PHATE 1', fontsize=18)\n",
    "ax.set_ylabel('PHATE 2', fontsize=18)\n",
    "\n",
    "ax.set_title('KDE - NK Cells', fontsize=20)\n",
    "\n",
    "fig.tight_layout()\n",
    "\n"
   ]
  },
  {
   "cell_type": "markdown",
   "metadata": {},
   "source": [
    "# 4. Create a Function That Performs MAGIC Imputation for All Cell Types\n",
    "Now that we have walked through the steps of a single lineage and found that the data distribution appears more \"Normal\", we can repeat this for all immune cell types. "
   ]
  },
  {
   "cell_type": "markdown",
   "metadata": {},
   "source": [
    "First, let's define a function to compute some robust standardized data using the robust Z-score method."
   ]
  },
  {
   "cell_type": "code",
   "execution_count": 21,
   "metadata": {},
   "outputs": [],
   "source": [
    "from scipy.stats import median_absolute_deviation as mad\n",
    "from scipy.stats import norm\n",
    "\n",
    "def robust_zscore(df):\n",
    "    \"\"\"\n",
    "    robust_zscore computes a modified version of the Z-score centered around the media and scaled by the median absolute deviation.\n",
    "    INPUT:\n",
    "      :param df: A data frame corresponding to numerical values where rows correspond to cells and columns correspond to genes.\n",
    "    OUTPUTS:\n",
    "      :output Z: A data frame of the robust Z-scores.\n",
    "      :output pval: A data frame of the p-values corresponding to the robust Z-scores.\n",
    "\n",
    "    \"\"\"\n",
    "    # Compute model parameters\n",
    "    mu = df.median(axis=0)\n",
    "    n = df.shape[1]\n",
    "    med_abs_dev = mad(df)\n",
    "    scale_factor = 1.4826\n",
    "\n",
    "    # Compute robust Z-score\n",
    "    Z = (df - mu) / (med_abs_dev * scale_factor)\n",
    "    Z[~np.isfinite(Z)] = 0\n",
    "\n",
    "    # Compute P-value based on Z-score\n",
    "    pval = norm.sf(abs(Z))*2 \n",
    "    pval = pd.DataFrame(pval,\n",
    "                    index=df.index,\n",
    "                    columns=df.columns)\n",
    "    return(Z, pval)"
   ]
  },
  {
   "cell_type": "markdown",
   "metadata": {},
   "source": [
    "Next, we'll define a function that runs the MAGIC pipeline described above."
   ]
  },
  {
   "cell_type": "code",
   "execution_count": 19,
   "metadata": {},
   "outputs": [],
   "source": [
    "def MAGIC_pipeline(df):\n",
    "    \"\"\"\n",
    "    MAGIC_pipeline performs data preprocessing, MAGIC imputation, and data standardization.\n",
    "    INPUT: \n",
    "      :param df: A pandas dataframe of the raw counts data.\n",
    "    OUTPUT:\n",
    "      :param Z: A pandas dataframe of the Z-scores that reach a p-value threshold less than 0.05.\n",
    "    \"\"\"\n",
    "    # Drop symbols\n",
    "    df = df[df['NCBI.gene..formerly.Entrezgene..ID'].notna()]\n",
    "    ids = df[\"NCBI.gene..formerly.Entrezgene..ID\"]\n",
    "    df = df.drop(['MGI.symbol', \n",
    "                  'HGNC.symbol', \n",
    "                  'NCBI.gene..formerly.Entrezgene..ID', \n",
    "                  'Gene.stable.ID',\n",
    "                  'Ensembl'], axis=1)\n",
    "\n",
    "    # Grab cell names\n",
    "    celltype = df.columns\n",
    "\n",
    "    # Annotate and configure data\n",
    "    df = df.transpose()\n",
    "    df = df.reset_index()\n",
    "    df = df.drop('index', axis=1)\n",
    "    df.columns = ids\n",
    "    df.index = celltype\n",
    "\n",
    "    # Perform some data filtering\n",
    "    df = scprep.filter.filter_library_size(df, cutoff=250)\n",
    "    df = scprep.filter.remove_rare_genes(df, cutoff=0, min_cells=5)\n",
    "\n",
    "    # Perform count normalization and square root transformation.\n",
    "    df = scprep.normalize.library_size_normalize(df)\n",
    "    df = scprep.transform.sqrt(df)\n",
    "\n",
    "    # Data imputation with MAGIC\n",
    "    magic_op = magic.MAGIC()\n",
    "    magic_data = magic_op.fit_transform(df, genes=\"all_genes\")\n",
    "    magic_data = magic_data.round(decimals=4)\n",
    "    magic_data[~np.isfinite(magic_data)] = 0\n",
    "\n",
    "    # Compute Z-scores\n",
    "    Z, pvalue = robust_zscore(magic_data)\n",
    "    Z[pvalue > 0.05] = np.NaN\n",
    "\n",
    "    return(Z)"
   ]
  },
  {
   "cell_type": "markdown",
   "metadata": {},
   "source": [
    "Finally, let's iterate this pipeline across all cell types. I ended up having to delete the cache for memory intensive purposes. Also, ensure the virtual environment is using the 64 bit version of Python, otherwise you will run into memory issues."
   ]
  },
  {
   "cell_type": "code",
   "execution_count": 22,
   "metadata": {},
   "outputs": [
    {
     "name": "stdout",
     "output_type": "stream",
     "text": [
      "Calculating MAGIC...\n",
      "  Running MAGIC on 176 cells and 2686 genes.\n",
      "  Calculating graph and diffusion operator...\n",
      "    Calculating PCA...\n"
     ]
    },
    {
     "name": "stderr",
     "output_type": "stream",
     "text": [
      "/home/rebernrj/.local/lib/python3.8/site-packages/magic/magic.py:474: UserWarning: Input matrix contains unexpressed genes. Please remove them prior to running MAGIC.\n",
      "  warnings.warn(\n"
     ]
    },
    {
     "name": "stdout",
     "output_type": "stream",
     "text": [
      "    Calculated PCA in 0.53 seconds.\n",
      "    Calculating KNN search...\n",
      "    Calculated KNN search in 0.01 seconds.\n",
      "    Calculating affinities...\n",
      "    Calculated affinities in 0.02 seconds.\n",
      "  Calculated graph and diffusion operator in 0.58 seconds.\n",
      "  Calculating imputation...\n",
      "Calculated MAGIC in 0.59 seconds.\n"
     ]
    },
    {
     "name": "stderr",
     "output_type": "stream",
     "text": [
      "<ipython-input-21-44dccfb393ed>:17: DeprecationWarning: `median_absolute_deviation` is deprecated, use `median_abs_deviation` instead!\n",
      "\n",
      "To preserve the existing default behavior, use\n",
      "`scipy.stats.median_abs_deviation(..., scale=1/1.4826)`.\n",
      "The value 1.4826 is not numerically precise for scaling\n",
      "with a normal distribution. For a numerically precise value, use\n",
      "`scipy.stats.median_abs_deviation(..., scale='normal')`.\n",
      "\n",
      "  med_abs_dev = mad(df)\n"
     ]
    },
    {
     "name": "stdout",
     "output_type": "stream",
     "text": [
      "Calculating MAGIC...\n",
      "  Running MAGIC on 531 cells and 9565 genes.\n",
      "  Calculating graph and diffusion operator...\n",
      "    Calculating PCA...\n"
     ]
    },
    {
     "name": "stderr",
     "output_type": "stream",
     "text": [
      "/home/rebernrj/.local/lib/python3.8/site-packages/magic/magic.py:474: UserWarning: Input matrix contains unexpressed genes. Please remove them prior to running MAGIC.\n",
      "  warnings.warn(\n"
     ]
    },
    {
     "name": "stdout",
     "output_type": "stream",
     "text": [
      "    Calculated PCA in 1.24 seconds.\n",
      "    Calculating KNN search...\n",
      "    Calculated KNN search in 0.03 seconds.\n",
      "    Calculating affinities...\n",
      "    Calculated affinities in 0.03 seconds.\n",
      "  Calculated graph and diffusion operator in 1.32 seconds.\n",
      "  Running MAGIC with `solver='exact'` on 9565-dimensional data may take a long time. Consider denoising specific genes with `genes=<list-like>` or using `solver='approximate'`.\n",
      "  Calculating imputation...\n",
      "  Calculated imputation in 0.05 seconds.\n",
      "Calculated MAGIC in 1.40 seconds.\n"
     ]
    },
    {
     "name": "stderr",
     "output_type": "stream",
     "text": [
      "<ipython-input-21-44dccfb393ed>:17: DeprecationWarning: `median_absolute_deviation` is deprecated, use `median_abs_deviation` instead!\n",
      "\n",
      "To preserve the existing default behavior, use\n",
      "`scipy.stats.median_abs_deviation(..., scale=1/1.4826)`.\n",
      "The value 1.4826 is not numerically precise for scaling\n",
      "with a normal distribution. For a numerically precise value, use\n",
      "`scipy.stats.median_abs_deviation(..., scale='normal')`.\n",
      "\n",
      "  med_abs_dev = mad(df)\n"
     ]
    },
    {
     "name": "stdout",
     "output_type": "stream",
     "text": [
      "Calculating MAGIC...\n",
      "  Running MAGIC on 377 cells and 6283 genes.\n",
      "  Calculating graph and diffusion operator...\n",
      "    Calculating PCA...\n"
     ]
    },
    {
     "name": "stderr",
     "output_type": "stream",
     "text": [
      "/home/rebernrj/.local/lib/python3.8/site-packages/magic/magic.py:474: UserWarning: Input matrix contains unexpressed genes. Please remove them prior to running MAGIC.\n",
      "  warnings.warn(\n"
     ]
    },
    {
     "name": "stdout",
     "output_type": "stream",
     "text": [
      "    Calculated PCA in 1.11 seconds.\n",
      "    Calculating KNN search...\n",
      "    Calculated KNN search in 0.02 seconds.\n",
      "    Calculating affinities...\n",
      "    Calculated affinities in 0.02 seconds.\n",
      "  Calculated graph and diffusion operator in 1.16 seconds.\n",
      "  Running MAGIC with `solver='exact'` on 6283-dimensional data may take a long time. Consider denoising specific genes with `genes=<list-like>` or using `solver='approximate'`.\n",
      "  Calculating imputation...\n",
      "  Calculated imputation in 0.03 seconds.\n",
      "Calculated MAGIC in 1.20 seconds.\n"
     ]
    },
    {
     "name": "stderr",
     "output_type": "stream",
     "text": [
      "<ipython-input-21-44dccfb393ed>:17: DeprecationWarning: `median_absolute_deviation` is deprecated, use `median_abs_deviation` instead!\n",
      "\n",
      "To preserve the existing default behavior, use\n",
      "`scipy.stats.median_abs_deviation(..., scale=1/1.4826)`.\n",
      "The value 1.4826 is not numerically precise for scaling\n",
      "with a normal distribution. For a numerically precise value, use\n",
      "`scipy.stats.median_abs_deviation(..., scale='normal')`.\n",
      "\n",
      "  med_abs_dev = mad(df)\n"
     ]
    },
    {
     "name": "stdout",
     "output_type": "stream",
     "text": [
      "Calculating MAGIC...\n",
      "  Running MAGIC on 629 cells and 9144 genes.\n",
      "  Calculating graph and diffusion operator...\n",
      "    Calculating PCA...\n"
     ]
    },
    {
     "name": "stderr",
     "output_type": "stream",
     "text": [
      "/home/rebernrj/.local/lib/python3.8/site-packages/magic/magic.py:474: UserWarning: Input matrix contains unexpressed genes. Please remove them prior to running MAGIC.\n",
      "  warnings.warn(\n"
     ]
    },
    {
     "name": "stdout",
     "output_type": "stream",
     "text": [
      "    Calculated PCA in 1.39 seconds.\n",
      "    Calculating KNN search...\n",
      "    Calculated KNN search in 0.10 seconds.\n",
      "    Calculating affinities...\n",
      "    Calculated affinities in 0.04 seconds.\n",
      "  Calculated graph and diffusion operator in 1.55 seconds.\n",
      "  Running MAGIC with `solver='exact'` on 9144-dimensional data may take a long time. Consider denoising specific genes with `genes=<list-like>` or using `solver='approximate'`.\n",
      "  Calculating imputation...\n",
      "  Calculated imputation in 0.10 seconds.\n",
      "Calculated MAGIC in 1.68 seconds.\n"
     ]
    },
    {
     "name": "stderr",
     "output_type": "stream",
     "text": [
      "<ipython-input-21-44dccfb393ed>:17: DeprecationWarning: `median_absolute_deviation` is deprecated, use `median_abs_deviation` instead!\n",
      "\n",
      "To preserve the existing default behavior, use\n",
      "`scipy.stats.median_abs_deviation(..., scale=1/1.4826)`.\n",
      "The value 1.4826 is not numerically precise for scaling\n",
      "with a normal distribution. For a numerically precise value, use\n",
      "`scipy.stats.median_abs_deviation(..., scale='normal')`.\n",
      "\n",
      "  med_abs_dev = mad(df)\n"
     ]
    },
    {
     "name": "stdout",
     "output_type": "stream",
     "text": [
      "Calculating MAGIC...\n",
      "  Running MAGIC on 129 cells and 2864 genes.\n",
      "  Calculating graph and diffusion operator...\n",
      "    Calculating PCA...\n"
     ]
    },
    {
     "name": "stderr",
     "output_type": "stream",
     "text": [
      "/home/rebernrj/.local/lib/python3.8/site-packages/magic/magic.py:474: UserWarning: Input matrix contains unexpressed genes. Please remove them prior to running MAGIC.\n",
      "  warnings.warn(\n"
     ]
    },
    {
     "name": "stdout",
     "output_type": "stream",
     "text": [
      "    Calculated PCA in 0.52 seconds.\n",
      "    Calculating KNN search...\n",
      "    Calculating affinities...\n",
      "  Calculated graph and diffusion operator in 0.53 seconds.\n",
      "  Calculating imputation...\n",
      "Calculated MAGIC in 0.55 seconds.\n"
     ]
    },
    {
     "name": "stderr",
     "output_type": "stream",
     "text": [
      "<ipython-input-21-44dccfb393ed>:17: DeprecationWarning: `median_absolute_deviation` is deprecated, use `median_abs_deviation` instead!\n",
      "\n",
      "To preserve the existing default behavior, use\n",
      "`scipy.stats.median_abs_deviation(..., scale=1/1.4826)`.\n",
      "The value 1.4826 is not numerically precise for scaling\n",
      "with a normal distribution. For a numerically precise value, use\n",
      "`scipy.stats.median_abs_deviation(..., scale='normal')`.\n",
      "\n",
      "  med_abs_dev = mad(df)\n"
     ]
    },
    {
     "name": "stdout",
     "output_type": "stream",
     "text": [
      "Calculating MAGIC...\n",
      "  Running MAGIC on 614 cells and 8347 genes.\n",
      "  Calculating graph and diffusion operator...\n",
      "    Calculating PCA...\n"
     ]
    },
    {
     "name": "stderr",
     "output_type": "stream",
     "text": [
      "/home/rebernrj/.local/lib/python3.8/site-packages/magic/magic.py:474: UserWarning: Input matrix contains unexpressed genes. Please remove them prior to running MAGIC.\n",
      "  warnings.warn(\n"
     ]
    },
    {
     "name": "stdout",
     "output_type": "stream",
     "text": [
      "    Calculated PCA in 1.17 seconds.\n",
      "    Calculating KNN search...\n",
      "    Calculated KNN search in 0.04 seconds.\n",
      "    Calculating affinities...\n",
      "    Calculated affinities in 0.04 seconds.\n",
      "  Calculated graph and diffusion operator in 1.27 seconds.\n",
      "  Running MAGIC with `solver='exact'` on 8347-dimensional data may take a long time. Consider denoising specific genes with `genes=<list-like>` or using `solver='approximate'`.\n",
      "  Calculating imputation...\n",
      "  Calculated imputation in 0.04 seconds.\n",
      "Calculated MAGIC in 1.34 seconds.\n"
     ]
    },
    {
     "name": "stderr",
     "output_type": "stream",
     "text": [
      "<ipython-input-21-44dccfb393ed>:17: DeprecationWarning: `median_absolute_deviation` is deprecated, use `median_abs_deviation` instead!\n",
      "\n",
      "To preserve the existing default behavior, use\n",
      "`scipy.stats.median_abs_deviation(..., scale=1/1.4826)`.\n",
      "The value 1.4826 is not numerically precise for scaling\n",
      "with a normal distribution. For a numerically precise value, use\n",
      "`scipy.stats.median_abs_deviation(..., scale='normal')`.\n",
      "\n",
      "  med_abs_dev = mad(df)\n"
     ]
    },
    {
     "name": "stdout",
     "output_type": "stream",
     "text": [
      "Calculating MAGIC...\n",
      "  Running MAGIC on 216 cells and 4025 genes.\n",
      "  Calculating graph and diffusion operator...\n",
      "    Calculating PCA...\n"
     ]
    },
    {
     "name": "stderr",
     "output_type": "stream",
     "text": [
      "/home/rebernrj/.local/lib/python3.8/site-packages/magic/magic.py:474: UserWarning: Input matrix contains unexpressed genes. Please remove them prior to running MAGIC.\n",
      "  warnings.warn(\n"
     ]
    },
    {
     "name": "stdout",
     "output_type": "stream",
     "text": [
      "    Calculated PCA in 0.42 seconds.\n",
      "    Calculating KNN search...\n",
      "    Calculating affinities...\n",
      "  Calculated graph and diffusion operator in 0.44 seconds.\n",
      "  Calculating imputation...\n",
      "Calculated MAGIC in 0.45 seconds.\n"
     ]
    },
    {
     "name": "stderr",
     "output_type": "stream",
     "text": [
      "<ipython-input-21-44dccfb393ed>:17: DeprecationWarning: `median_absolute_deviation` is deprecated, use `median_abs_deviation` instead!\n",
      "\n",
      "To preserve the existing default behavior, use\n",
      "`scipy.stats.median_abs_deviation(..., scale=1/1.4826)`.\n",
      "The value 1.4826 is not numerically precise for scaling\n",
      "with a normal distribution. For a numerically precise value, use\n",
      "`scipy.stats.median_abs_deviation(..., scale='normal')`.\n",
      "\n",
      "  med_abs_dev = mad(df)\n"
     ]
    },
    {
     "name": "stdout",
     "output_type": "stream",
     "text": [
      "Calculating MAGIC...\n",
      "  Running MAGIC on 518 cells and 8501 genes.\n",
      "  Calculating graph and diffusion operator...\n",
      "    Calculating PCA...\n"
     ]
    },
    {
     "name": "stderr",
     "output_type": "stream",
     "text": [
      "/home/rebernrj/.local/lib/python3.8/site-packages/magic/magic.py:474: UserWarning: Input matrix contains unexpressed genes. Please remove them prior to running MAGIC.\n",
      "  warnings.warn(\n"
     ]
    },
    {
     "name": "stdout",
     "output_type": "stream",
     "text": [
      "    Calculated PCA in 1.11 seconds.\n",
      "    Calculating KNN search...\n",
      "    Calculated KNN search in 0.03 seconds.\n",
      "    Calculating affinities...\n",
      "    Calculated affinities in 0.03 seconds.\n",
      "  Calculated graph and diffusion operator in 1.18 seconds.\n",
      "  Running MAGIC with `solver='exact'` on 8501-dimensional data may take a long time. Consider denoising specific genes with `genes=<list-like>` or using `solver='approximate'`.\n",
      "  Calculating imputation...\n",
      "  Calculated imputation in 0.03 seconds.\n",
      "Calculated MAGIC in 1.24 seconds.\n"
     ]
    },
    {
     "name": "stderr",
     "output_type": "stream",
     "text": [
      "<ipython-input-21-44dccfb393ed>:17: DeprecationWarning: `median_absolute_deviation` is deprecated, use `median_abs_deviation` instead!\n",
      "\n",
      "To preserve the existing default behavior, use\n",
      "`scipy.stats.median_abs_deviation(..., scale=1/1.4826)`.\n",
      "The value 1.4826 is not numerically precise for scaling\n",
      "with a normal distribution. For a numerically precise value, use\n",
      "`scipy.stats.median_abs_deviation(..., scale='normal')`.\n",
      "\n",
      "  med_abs_dev = mad(df)\n"
     ]
    },
    {
     "name": "stdout",
     "output_type": "stream",
     "text": [
      "Calculating MAGIC...\n",
      "  Running MAGIC on 80 cells and 2706 genes.\n",
      "  Calculating graph and diffusion operator...\n",
      "    Calculating KNN search...\n",
      "    Calculated KNN search in 0.02 seconds.\n",
      "    Calculating affinities...\n",
      "    Calculated affinities in 0.02 seconds.\n",
      "  Calculated graph and diffusion operator in 0.05 seconds.\n",
      "  Calculating imputation...\n",
      "  Calculated imputation in 0.03 seconds.\n",
      "Calculated MAGIC in 0.09 seconds.\n"
     ]
    },
    {
     "name": "stderr",
     "output_type": "stream",
     "text": [
      "/home/rebernrj/.local/lib/python3.8/site-packages/magic/magic.py:474: UserWarning: Input matrix contains unexpressed genes. Please remove them prior to running MAGIC.\n",
      "  warnings.warn(\n",
      "/home/rebernrj/.local/lib/python3.8/site-packages/graphtools/base.py:163: RuntimeWarning: Cannot perform PCA to 100 dimensions on data with min(n_samples, n_features) = 80\n",
      "  warnings.warn(\n",
      "<ipython-input-21-44dccfb393ed>:17: DeprecationWarning: `median_absolute_deviation` is deprecated, use `median_abs_deviation` instead!\n",
      "\n",
      "To preserve the existing default behavior, use\n",
      "`scipy.stats.median_abs_deviation(..., scale=1/1.4826)`.\n",
      "The value 1.4826 is not numerically precise for scaling\n",
      "with a normal distribution. For a numerically precise value, use\n",
      "`scipy.stats.median_abs_deviation(..., scale='normal')`.\n",
      "\n",
      "  med_abs_dev = mad(df)\n"
     ]
    },
    {
     "name": "stdout",
     "output_type": "stream",
     "text": [
      "Calculating MAGIC...\n",
      "  Running MAGIC on 3129 cells and 9896 genes.\n",
      "  Calculating graph and diffusion operator...\n",
      "    Calculating PCA...\n"
     ]
    },
    {
     "name": "stderr",
     "output_type": "stream",
     "text": [
      "/home/rebernrj/.local/lib/python3.8/site-packages/magic/magic.py:474: UserWarning: Input matrix contains unexpressed genes. Please remove them prior to running MAGIC.\n",
      "  warnings.warn(\n"
     ]
    },
    {
     "name": "stdout",
     "output_type": "stream",
     "text": [
      "    Calculated PCA in 4.97 seconds.\n",
      "    Calculating KNN search...\n",
      "    Calculated KNN search in 1.09 seconds.\n",
      "    Calculating affinities...\n",
      "    Calculated affinities in 1.04 seconds.\n",
      "  Calculated graph and diffusion operator in 7.29 seconds.\n",
      "  Running MAGIC with `solver='exact'` on 9896-dimensional data may take a long time. Consider denoising specific genes with `genes=<list-like>` or using `solver='approximate'`.\n",
      "  Calculating imputation...\n",
      "  Calculated imputation in 1.31 seconds.\n",
      "Calculated MAGIC in 8.70 seconds.\n"
     ]
    },
    {
     "name": "stderr",
     "output_type": "stream",
     "text": [
      "<ipython-input-21-44dccfb393ed>:17: DeprecationWarning: `median_absolute_deviation` is deprecated, use `median_abs_deviation` instead!\n",
      "\n",
      "To preserve the existing default behavior, use\n",
      "`scipy.stats.median_abs_deviation(..., scale=1/1.4826)`.\n",
      "The value 1.4826 is not numerically precise for scaling\n",
      "with a normal distribution. For a numerically precise value, use\n",
      "`scipy.stats.median_abs_deviation(..., scale='normal')`.\n",
      "\n",
      "  med_abs_dev = mad(df)\n"
     ]
    },
    {
     "name": "stdout",
     "output_type": "stream",
     "text": [
      "Calculating MAGIC...\n",
      "  Running MAGIC on 150 cells and 3930 genes.\n",
      "  Calculating graph and diffusion operator...\n",
      "    Calculating PCA...\n"
     ]
    },
    {
     "name": "stderr",
     "output_type": "stream",
     "text": [
      "/home/rebernrj/.local/lib/python3.8/site-packages/magic/magic.py:474: UserWarning: Input matrix contains unexpressed genes. Please remove them prior to running MAGIC.\n",
      "  warnings.warn(\n"
     ]
    },
    {
     "name": "stdout",
     "output_type": "stream",
     "text": [
      "    Calculated PCA in 0.78 seconds.\n",
      "    Calculating KNN search...\n",
      "    Calculating affinities...\n",
      "  Calculated graph and diffusion operator in 0.79 seconds.\n",
      "  Calculating imputation...\n",
      "Calculated MAGIC in 0.81 seconds.\n"
     ]
    },
    {
     "name": "stderr",
     "output_type": "stream",
     "text": [
      "<ipython-input-21-44dccfb393ed>:17: DeprecationWarning: `median_absolute_deviation` is deprecated, use `median_abs_deviation` instead!\n",
      "\n",
      "To preserve the existing default behavior, use\n",
      "`scipy.stats.median_abs_deviation(..., scale=1/1.4826)`.\n",
      "The value 1.4826 is not numerically precise for scaling\n",
      "with a normal distribution. For a numerically precise value, use\n",
      "`scipy.stats.median_abs_deviation(..., scale='normal')`.\n",
      "\n",
      "  med_abs_dev = mad(df)\n"
     ]
    },
    {
     "name": "stdout",
     "output_type": "stream",
     "text": [
      "Calculating MAGIC...\n",
      "  Running MAGIC on 75 cells and 3603 genes.\n",
      "  Calculating graph and diffusion operator...\n",
      "    Calculating KNN search...\n",
      "    Calculated KNN search in 0.03 seconds.\n",
      "    Calculating affinities...\n",
      "    Calculated affinities in 0.03 seconds.\n",
      "  Calculated graph and diffusion operator in 0.06 seconds.\n",
      "  Calculating imputation...\n",
      "Calculated MAGIC in 0.07 seconds.\n"
     ]
    },
    {
     "name": "stderr",
     "output_type": "stream",
     "text": [
      "/home/rebernrj/.local/lib/python3.8/site-packages/magic/magic.py:474: UserWarning: Input matrix contains unexpressed genes. Please remove them prior to running MAGIC.\n",
      "  warnings.warn(\n",
      "/home/rebernrj/.local/lib/python3.8/site-packages/graphtools/base.py:163: RuntimeWarning: Cannot perform PCA to 100 dimensions on data with min(n_samples, n_features) = 75\n",
      "  warnings.warn(\n",
      "<ipython-input-21-44dccfb393ed>:17: DeprecationWarning: `median_absolute_deviation` is deprecated, use `median_abs_deviation` instead!\n",
      "\n",
      "To preserve the existing default behavior, use\n",
      "`scipy.stats.median_abs_deviation(..., scale=1/1.4826)`.\n",
      "The value 1.4826 is not numerically precise for scaling\n",
      "with a normal distribution. For a numerically precise value, use\n",
      "`scipy.stats.median_abs_deviation(..., scale='normal')`.\n",
      "\n",
      "  med_abs_dev = mad(df)\n"
     ]
    },
    {
     "name": "stdout",
     "output_type": "stream",
     "text": [
      "Calculating MAGIC...\n",
      "  Running MAGIC on 70 cells and 2686 genes.\n",
      "  Calculating graph and diffusion operator...\n",
      "    Calculating KNN search...\n",
      "    Calculated KNN search in 0.02 seconds.\n",
      "    Calculating affinities...\n",
      "    Calculated affinities in 0.02 seconds.\n",
      "  Calculated graph and diffusion operator in 0.04 seconds.\n",
      "  Calculating imputation...\n",
      "Calculated MAGIC in 0.05 seconds.\n"
     ]
    },
    {
     "name": "stderr",
     "output_type": "stream",
     "text": [
      "/home/rebernrj/.local/lib/python3.8/site-packages/magic/magic.py:474: UserWarning: Input matrix contains unexpressed genes. Please remove them prior to running MAGIC.\n",
      "  warnings.warn(\n",
      "/home/rebernrj/.local/lib/python3.8/site-packages/graphtools/base.py:163: RuntimeWarning: Cannot perform PCA to 100 dimensions on data with min(n_samples, n_features) = 70\n",
      "  warnings.warn(\n"
     ]
    },
    {
     "name": "stdout",
     "output_type": "stream",
     "text": [
      "finished\n"
     ]
    },
    {
     "name": "stderr",
     "output_type": "stream",
     "text": [
      "<ipython-input-21-44dccfb393ed>:17: DeprecationWarning: `median_absolute_deviation` is deprecated, use `median_abs_deviation` instead!\n",
      "\n",
      "To preserve the existing default behavior, use\n",
      "`scipy.stats.median_abs_deviation(..., scale=1/1.4826)`.\n",
      "The value 1.4826 is not numerically precise for scaling\n",
      "with a normal distribution. For a numerically precise value, use\n",
      "`scipy.stats.median_abs_deviation(..., scale='normal')`.\n",
      "\n",
      "  med_abs_dev = mad(df)\n"
     ]
    }
   ],
   "source": [
    "for celltypes in wb.sheetnames: \n",
    "    counts = pd.read_excel(datapath, \n",
    "                        sheet_name=celltypes)\n",
    "    Z = MAGIC_pipeline(counts)\n",
    "    del counts\n",
    "\n",
    "    # ACLX\n",
    "    #Z.to_csv('C:/Users/scott/Analysis/Immune/'+celltypes+'_magic.csv')\n",
    "\n",
    "    # Dell\n",
    "    #Z.to_csv('D:/Analysis/Immune/magic_entrez/'+celltypes+'_magic.csv')\n",
    "    \n",
    "    # Server\n",
    "    Z.to_csv('/nfs/turbo/umms-csriram/scampit/Ryan/Projects/single-cell-neutrophil-flux-analysis/int/'+celltypes+'_magic.csv')\n",
    "\n",
    "    del Z\n",
    "    \n",
    "print('finished')"
   ]
  },
  {
   "cell_type": "code",
   "execution_count": null,
   "metadata": {},
   "outputs": [],
   "source": []
  }
 ],
 "metadata": {
  "kernelspec": {
   "display_name": "Python 3",
   "language": "python",
   "name": "python3"
  },
  "language_info": {
   "codemirror_mode": {
    "name": "ipython",
    "version": 3
   },
   "file_extension": ".py",
   "mimetype": "text/x-python",
   "name": "python",
   "nbconvert_exporter": "python",
   "pygments_lexer": "ipython3",
   "version": "3.8.3"
  }
 },
 "nbformat": 4,
 "nbformat_minor": 4
}
